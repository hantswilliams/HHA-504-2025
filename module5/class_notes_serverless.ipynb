{
 "cells": [
  {
   "cell_type": "code",
   "execution_count": 1,
   "metadata": {
    "id": "PN4PpgHZ0F_w"
   },
   "outputs": [],
   "source": [
    "import requests\n",
    "\n"
   ]
  },
  {
   "cell_type": "code",
   "execution_count": 36,
   "metadata": {
    "colab": {
     "base_uri": "https://localhost:8080/",
     "height": 36
    },
    "id": "oJsBuaSY0Iu4",
    "outputId": "6742c093-4b4e-47a9-b4d5-fb6f7a65a12a"
   },
   "outputs": [
    {
     "data": {
      "application/vnd.google.colaboratory.intrinsic+json": {
       "type": "string"
      },
      "text/plain": [
       "'https://python-bp-504-714433739872.europe-west1.run.app'"
      ]
     },
     "execution_count": 36,
     "metadata": {},
     "output_type": "execute_result"
    }
   ],
   "source": [
    "url_param = \"https://python-bp-504-714433739872.europe-west1.run.app\"\n",
    "url_param"
   ]
  },
  {
   "cell_type": "code",
   "execution_count": 48,
   "metadata": {
    "id": "elrK5cxy0Jch"
   },
   "outputs": [],
   "source": [
    "output = requests.get(url_param, params={\"systolic\": 100.434}, timeout=10)\n"
   ]
  },
  {
   "cell_type": "code",
   "execution_count": 49,
   "metadata": {
    "colab": {
     "base_uri": "https://localhost:8080/"
    },
    "id": "XHWVfYrC0ej0",
    "outputId": "f6a9688f-bc6b-481f-d4e1-efe54c105a09"
   },
   "outputs": [
    {
     "name": "stdout",
     "output_type": "stream",
     "text": [
      "Normal\n"
     ]
    }
   ],
   "source": [
    "\n",
    "print(output.text)"
   ]
  },
  {
   "cell_type": "code",
   "execution_count": null,
   "metadata": {
    "id": "iRdZg_8RASdg"
   },
   "outputs": [],
   "source": []
  },
  {
   "cell_type": "code",
   "execution_count": 22,
   "metadata": {
    "colab": {
     "base_uri": "https://localhost:8080/"
    },
    "id": "FC80NiNf6K_7",
    "outputId": "8429b7a7-d01e-4aba-b0ef-b7e882b9cc9e"
   },
   "outputs": [
    {
     "name": "stdout",
     "output_type": "stream",
     "text": [
      "Invalid input. Please enter an integer.\n",
      "50\n"
     ]
    }
   ],
   "source": [
    "\n",
    "systolic_value = \"50AAA\"\n",
    "\n",
    "try:\n",
    "    systolic_value = int(systolic_value)\n",
    "except ValueError:\n",
    "  systolic_value = 50\n",
    "  print(\"Invalid input. Please enter an integer.\")\n",
    "  print(systolic_value)"
   ]
  },
  {
   "cell_type": "code",
   "execution_count": 15,
   "metadata": {
    "colab": {
     "base_uri": "https://localhost:8080/"
    },
    "id": "qUOa_HpN5EKA",
    "outputId": "a4c181ee-f33c-4b02-d422-76f102b3839d"
   },
   "outputs": [
    {
     "name": "stdout",
     "output_type": "stream",
     "text": [
      "this is the value: this is somet text\n"
     ]
    }
   ],
   "source": [
    "test_value = 'this is somet text'\n",
    "print (\"this is the value: {}\".format(test_value))"
   ]
  },
  {
   "cell_type": "code",
   "execution_count": 62,
   "metadata": {
    "id": "fIICNTXlATAW"
   },
   "outputs": [],
   "source": [
    "def hello_http(systolic_value_entered, diastolic_value_entered):\n",
    "\n",
    "    if systolic_value_entered:\n",
    "        systolic_value = systolic_value_entered\n",
    "    else:\n",
    "        systolic_value = 50\n",
    "\n",
    "    if diastolic_value_entered:\n",
    "        diastolic_value = diastolic_value_entered\n",
    "    else:\n",
    "        diastolic_value = 30\n",
    "\n",
    "    try:\n",
    "        systolic_value = float(systolic_value)\n",
    "    except (TypeError, ValueError):\n",
    "        systolic_value = 100\n",
    "        print(\"Invalid input. We are assuming 100\")\n",
    "\n",
    "    if systolic_value >= 80:\n",
    "        systolic_value_label = \"Normal\"\n",
    "    else:\n",
    "        systolic_value_label = \"Abnormal or can not process\"\n",
    "\n",
    "    return systolic_value, diastolic_value_entered\n"
   ]
  },
  {
   "cell_type": "code",
   "execution_count": 64,
   "metadata": {
    "colab": {
     "base_uri": "https://localhost:8080/"
    },
    "id": "CMq3fLqzArRR",
    "outputId": "266cbd16-eec8-4e26-b050-5feecbe47b24"
   },
   "outputs": [
    {
     "data": {
      "text/plain": [
       "(150.0, '100')"
      ]
     },
     "execution_count": 64,
     "metadata": {},
     "output_type": "execute_result"
    }
   ],
   "source": [
    "hello_http(\"150\", \"100\")"
   ]
  },
  {
   "cell_type": "code",
   "execution_count": null,
   "metadata": {
    "colab": {
     "base_uri": "https://localhost:8080/"
    },
    "id": "2UKvacNUERKF",
    "outputId": "9ebfbaee-a4bd-4027-bd3b-97f81b6ffb7c"
   },
   "outputs": [
    {
     "name": "stdout",
     "output_type": "stream",
     "text": [
      "https://python-test-dev1-g6bth0chgyegdtaf.canadacentral-01.azurewebsites.net/api/http_trigger1\n",
      "{'name': 'John Doe', 'systolic': '200', 'code': '8CkUbC6WJ_ij0OcF4I-qcSH8YT83TVYyNrC6865sQ-DCAzFuKlBJHA=='}\n"
     ]
    }
   ],
   "source": [
    "# api/http_trigger1?code=\n",
    "\n",
    "BASE_URL = \"https://python-test-dev1-g6bth0chgyegdtaf.canadacentral-01.azurewebsites.net\"\n",
    "FUNCTION = \"http_trigger1\"\n",
    "KEY = \"INSERT YOUR KEY HERE\"  # function or host key\n",
    "\n",
    "url = f\"{BASE_URL}/api/{FUNCTION}\"\n",
    "params = {\"name\": \"John Doe\", \"systolic\": \"200\", \"code\": KEY}\n",
    "\n",
    "print(url)\n",
    "print(params)\n",
    "\n"
   ]
  },
  {
   "cell_type": "code",
   "execution_count": 76,
   "metadata": {
    "colab": {
     "base_uri": "https://localhost:8080/"
    },
    "id": "KV_nqFIiEUrv",
    "outputId": "9b583bb1-b71b-44f5-88b3-ad6d329dfc4f"
   },
   "outputs": [
    {
     "name": "stdout",
     "output_type": "stream",
     "text": [
      "200\n",
      "QUICK UPDATE: Hello, John Doe. You also entered a value of 200. This HTTP triggered function executed successfully.\n"
     ]
    }
   ],
   "source": [
    "azure_response = requests.get(url, params=params, timeout=10)\n",
    "\n",
    "print(azure_response.status_code)\n",
    "\n",
    "print(azure_response.text)  # -> \"Hello, Hants. This HTTP triggered function executed successfully.\""
   ]
  }
 ],
 "metadata": {
  "colab": {
   "provenance": []
  },
  "kernelspec": {
   "display_name": "Python 3",
   "name": "python3"
  },
  "language_info": {
   "name": "python"
  }
 },
 "nbformat": 4,
 "nbformat_minor": 0
}
