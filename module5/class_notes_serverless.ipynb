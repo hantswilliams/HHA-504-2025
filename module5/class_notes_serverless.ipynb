{
  "nbformat": 4,
  "nbformat_minor": 0,
  "metadata": {
    "colab": {
      "provenance": []
    },
    "kernelspec": {
      "name": "python3",
      "display_name": "Python 3"
    },
    "language_info": {
      "name": "python"
    }
  },
  "cells": [
    {
      "cell_type": "code",
      "execution_count": 1,
      "metadata": {
        "id": "PN4PpgHZ0F_w"
      },
      "outputs": [],
      "source": [
        "import requests\n",
        "\n"
      ]
    },
    {
      "cell_type": "code",
      "source": [
        "url_param = \"https://python-bp-504-714433739872.europe-west1.run.app\"\n",
        "url_param"
      ],
      "metadata": {
        "colab": {
          "base_uri": "https://localhost:8080/",
          "height": 36
        },
        "id": "oJsBuaSY0Iu4",
        "outputId": "6742c093-4b4e-47a9-b4d5-fb6f7a65a12a"
      },
      "execution_count": 36,
      "outputs": [
        {
          "output_type": "execute_result",
          "data": {
            "text/plain": [
              "'https://python-bp-504-714433739872.europe-west1.run.app'"
            ],
            "application/vnd.google.colaboratory.intrinsic+json": {
              "type": "string"
            }
          },
          "metadata": {},
          "execution_count": 36
        }
      ]
    },
    {
      "cell_type": "code",
      "source": [
        "output = requests.get(url_param, params={\"systolic\": 100.434}, timeout=10)\n"
      ],
      "metadata": {
        "id": "elrK5cxy0Jch"
      },
      "execution_count": 48,
      "outputs": []
    },
    {
      "cell_type": "code",
      "source": [
        "\n",
        "print(output.text)"
      ],
      "metadata": {
        "colab": {
          "base_uri": "https://localhost:8080/"
        },
        "id": "XHWVfYrC0ej0",
        "outputId": "f6a9688f-bc6b-481f-d4e1-efe54c105a09"
      },
      "execution_count": 49,
      "outputs": [
        {
          "output_type": "stream",
          "name": "stdout",
          "text": [
            "Normal\n"
          ]
        }
      ]
    },
    {
      "cell_type": "code",
      "source": [],
      "metadata": {
        "id": "iRdZg_8RASdg"
      },
      "execution_count": null,
      "outputs": []
    },
    {
      "cell_type": "code",
      "source": [
        "\n",
        "systolic_value = \"50AAA\"\n",
        "\n",
        "try:\n",
        "    systolic_value = int(systolic_value)\n",
        "except ValueError:\n",
        "  systolic_value = 50\n",
        "  print(\"Invalid input. Please enter an integer.\")\n",
        "  print(systolic_value)"
      ],
      "metadata": {
        "colab": {
          "base_uri": "https://localhost:8080/"
        },
        "id": "FC80NiNf6K_7",
        "outputId": "8429b7a7-d01e-4aba-b0ef-b7e882b9cc9e"
      },
      "execution_count": 22,
      "outputs": [
        {
          "output_type": "stream",
          "name": "stdout",
          "text": [
            "Invalid input. Please enter an integer.\n",
            "50\n"
          ]
        }
      ]
    },
    {
      "cell_type": "code",
      "source": [
        "test_value = 'this is somet text'\n",
        "print (\"this is the value: {}\".format(test_value))"
      ],
      "metadata": {
        "colab": {
          "base_uri": "https://localhost:8080/"
        },
        "id": "qUOa_HpN5EKA",
        "outputId": "a4c181ee-f33c-4b02-d422-76f102b3839d"
      },
      "execution_count": 15,
      "outputs": [
        {
          "output_type": "stream",
          "name": "stdout",
          "text": [
            "this is the value: this is somet text\n"
          ]
        }
      ]
    },
    {
      "cell_type": "code",
      "source": [
        "def hello_http(systolic_value_entered, diastolic_value_entered):\n",
        "\n",
        "    if systolic_value_entered:\n",
        "        systolic_value = systolic_value_entered\n",
        "    else:\n",
        "        systolic_value = 50\n",
        "\n",
        "    if diastolic_value_entered:\n",
        "        diastolic_value = diastolic_value_entered\n",
        "    else:\n",
        "        diastolic_value = 30\n",
        "\n",
        "    try:\n",
        "        systolic_value = float(systolic_value)\n",
        "    except (TypeError, ValueError):\n",
        "        systolic_value = 100\n",
        "        print(\"Invalid input. We are assuming 100\")\n",
        "\n",
        "    if systolic_value >= 80:\n",
        "        systolic_value_label = \"Normal\"\n",
        "    else:\n",
        "        systolic_value_label = \"Abnormal or can not process\"\n",
        "\n",
        "    return systolic_value, diastolic_value_entered\n"
      ],
      "metadata": {
        "id": "fIICNTXlATAW"
      },
      "execution_count": 62,
      "outputs": []
    },
    {
      "cell_type": "code",
      "source": [
        "hello_http(\"150\", \"100\")"
      ],
      "metadata": {
        "colab": {
          "base_uri": "https://localhost:8080/"
        },
        "id": "CMq3fLqzArRR",
        "outputId": "266cbd16-eec8-4e26-b050-5feecbe47b24"
      },
      "execution_count": 64,
      "outputs": [
        {
          "output_type": "execute_result",
          "data": {
            "text/plain": [
              "(150.0, '100')"
            ]
          },
          "metadata": {},
          "execution_count": 64
        }
      ]
    },
    {
      "cell_type": "code",
      "source": [
        "# api/http_trigger1?code=\n",
        "\n",
        "BASE_URL = \"https://python-test-dev1-g6bth0chgyegdtaf.canadacentral-01.azurewebsites.net\"\n",
        "FUNCTION = \"http_trigger1\"\n",
        "KEY = \"8CkUbC6WJ_ij0OcF4I-qcSH8YT83TVYyNrC6865sQ-DCAzFuKlBJHA==\"  # function or host key\n",
        "\n",
        "url = f\"{BASE_URL}/api/{FUNCTION}\"\n",
        "params = {\"name\": \"John Doe\", \"systolic\": \"200\", \"code\": KEY}\n",
        "\n",
        "print(url)\n",
        "print(params)\n",
        "\n"
      ],
      "metadata": {
        "colab": {
          "base_uri": "https://localhost:8080/"
        },
        "id": "2UKvacNUERKF",
        "outputId": "9ebfbaee-a4bd-4027-bd3b-97f81b6ffb7c"
      },
      "execution_count": 74,
      "outputs": [
        {
          "output_type": "stream",
          "name": "stdout",
          "text": [
            "https://python-test-dev1-g6bth0chgyegdtaf.canadacentral-01.azurewebsites.net/api/http_trigger1\n",
            "{'name': 'John Doe', 'systolic': '200', 'code': '8CkUbC6WJ_ij0OcF4I-qcSH8YT83TVYyNrC6865sQ-DCAzFuKlBJHA=='}\n"
          ]
        }
      ]
    },
    {
      "cell_type": "code",
      "source": [
        "azure_response = requests.get(url, params=params, timeout=10)\n",
        "\n",
        "print(azure_response.status_code)\n",
        "\n",
        "print(azure_response.text)  # -> \"Hello, Hants. This HTTP triggered function executed successfully.\""
      ],
      "metadata": {
        "colab": {
          "base_uri": "https://localhost:8080/"
        },
        "id": "KV_nqFIiEUrv",
        "outputId": "9b583bb1-b71b-44f5-88b3-ad6d329dfc4f"
      },
      "execution_count": 76,
      "outputs": [
        {
          "output_type": "stream",
          "name": "stdout",
          "text": [
            "200\n",
            "QUICK UPDATE: Hello, John Doe. You also entered a value of 200. This HTTP triggered function executed successfully.\n"
          ]
        }
      ]
    }
  ]
}